{
 "cells": [
  {
   "cell_type": "code",
   "execution_count": 1,
   "metadata": {},
   "outputs": [],
   "source": [
    "import pandas as pd\n",
    "import matplotlib.pyplot as plt\n",
    "import statsmodels.api as sm\n",
    "%matplotlib inline"
   ]
  },
  {
   "cell_type": "markdown",
   "metadata": {},
   "source": [
    "# Percobaan 1"
   ]
  },
  {
   "cell_type": "code",
   "execution_count": 2,
   "metadata": {},
   "outputs": [
    {
     "name": "stdout",
     "output_type": "stream",
     "text": [
      "Persamaan:\n",
      "y = 0.0016333333333333332 x + 0.13500000000000006\n",
      "Kesalahan: \n",
      "delta m = 0.00011974399500026845 \n",
      "delta c = 0.030233876721110376\n"
     ]
    },
    {
     "data": {
      "image/png": "[encoded data removed]",
      "text/plain": [
       "<Figure size 432x288 with 1 Axes>"
      ]
     },
     "metadata": {
      "needs_background": "light"
     },
     "output_type": "display_data"
    }
   ],
   "source": [
    "df_p1 = pd.read_csv(\"Percobaan 1.txt\", sep = \"\\t\")\n",
    "x_p1 = df_p1[\"Beban (gram)\"]\n",
    "y_p1 = df_p1[\"Simpangan (rad)\"]\n",
    "x_const_p1 = sm.add_constant(x_p1)\n",
    "hasil_p1 = sm.OLS(y_p1, x_const_p1).fit()\n",
    "\n",
    "const_p1 = hasil_p1.params[0]\n",
    "grad_p1 = hasil_p1.params[1]\n",
    "print(\"Persamaan:\\ny =\", grad_p1, \"x +\", const_p1)\n",
    "\n",
    "grad_err_p1 = hasil_p1.bse[1]\n",
    "const_err_p1 = hasil_p1.bse[0]\n",
    "print(\"Kesalahan: \\ndelta m =\", grad_err_p1, \"\\ndelta c =\", const_err_p1)\n",
    "\n",
    "y_predict_p1 = grad_p1*x_p1 + const_p1\n",
    "plt.plot(x_p1, y_p1,'o', x_p1, y_predict_p1)\n",
    "plt.xlabel(\"Beban (gram)\")\n",
    "plt.ylabel(\"Simpangan (rad)\")\n",
    "plt.show()"
   ]
  },
  {
   "cell_type": "code",
   "execution_count": 3,
   "metadata": {},
   "outputs": [
    {
     "name": "stdout",
     "output_type": "stream",
     "text": [
      "                            OLS Regression Results                            \n",
      "==============================================================================\n",
      "Dep. Variable:        Simpangan (rad)   R-squared:                       0.969\n",
      "Model:                            OLS   Adj. R-squared:                  0.964\n",
      "Method:                 Least Squares   F-statistic:                     186.1\n",
      "Date:                Wed, 14 Apr 2021   Prob (F-statistic):           9.64e-06\n",
      "Time:                        11:18:46   Log-Likelihood:                 15.794\n",
      "No. Observations:                   8   AIC:                            -27.59\n",
      "Df Residuals:                       6   BIC:                            -27.43\n",
      "Df Model:                           1                                         \n",
      "Covariance Type:            nonrobust                                         \n",
      "================================================================================\n",
      "                   coef    std err          t      P>|t|      [0.025      0.975]\n",
      "--------------------------------------------------------------------------------\n",
      "const            0.1350      0.030      4.465      0.004       0.061       0.209\n",
      "Beban (gram)     0.0016      0.000     13.640      0.000       0.001       0.002\n",
      "==============================================================================\n",
      "Omnibus:                        1.170   Durbin-Watson:                   0.748\n",
      "Prob(Omnibus):                  0.557   Jarque-Bera (JB):                0.823\n",
      "Skew:                          -0.587   Prob(JB):                        0.663\n",
      "Kurtosis:                       1.956   Cond. No.                         556.\n",
      "==============================================================================\n",
      "\n",
      "Notes:\n",
      "[1] Standard Errors assume that the covariance matrix of the errors is correctly specified.\n"
     ]
    },
    {
     "name": "stderr",
     "output_type": "stream",
     "text": [
      "C:\\Users\\gesha\\anaconda3\\lib\\site-packages\\scipy\\stats\\stats.py:1603: UserWarning: kurtosistest only valid for n>=20 ... continuing anyway, n=8\n",
      "  warnings.warn(\"kurtosistest only valid for n>=20 ... continuing \"\n"
     ]
    }
   ],
   "source": [
    "print(hasil_p1.summary())"
   ]
  },
  {
   "cell_type": "markdown",
   "metadata": {},
   "source": [
    "## Kalkulasi koefisien puntir"
   ]
  },
  {
   "cell_type": "code",
   "execution_count": 4,
   "metadata": {},
   "outputs": [
    {
     "name": "stdout",
     "output_type": "stream",
     "text": [
      "Koefisien puntir = -300000.0 dengan kesalahan -21993.79500004931\n",
      "Kesalahan relatif = 7.331265000016438 %\n"
     ]
    }
   ],
   "source": [
    "r = 2.5\n",
    "g = 98\n",
    "koef_puntir = -(2*g*r)/grad_p1\n",
    "err_koef_puntir = -(2*g*r*grad_err_p1)/(grad_p1**2)\n",
    "print(\"Koefisien puntir =\", koef_puntir, \"dengan kesalahan\", err_koef_puntir)\n",
    "rel_err_koef_puntir = abs(err_koef_puntir/koef_puntir)*100\n",
    "print(\"Kesalahan relatif =\", rel_err_koef_puntir, \"%\")"
   ]
  },
  {
   "cell_type": "markdown",
   "metadata": {},
   "source": [
    "# Percobaan 2"
   ]
  },
  {
   "cell_type": "code",
   "execution_count": null,
   "metadata": {},
   "outputs": [],
   "source": [
    "df_p2 = pd.read_csv(\"Percobaan 2.txt\", sep = \"\\t\")\n",
    "x_p2 = df_p2[\"Simpangan (rad)\"]\n",
    "t_p2 = df_p2[\"t (s)\"]\n",
    "n = 3\n",
    "df_p2[\"Periode kuadrat\"] = (t_p2/n)**2\n",
    "y_p2 = df_p2[\"Periode kuadrat\"]\n",
    "x_const_p2 = sm.add_constant(x_p2)\n",
    "hasil_p2 = sm.OLS(y_p2, x_const_p2).fit()\n",
    "print(\"Persamaan:\\n y =\", hasil_p2.params[0], \"x +\", hasil_p2.params[1])\n",
    "y_predict_p2 = hasil_p2.params[1]*x_p2 + hasil_p2.params[0]\n",
    "plt.plot(x_p2, y_p2,'o', x_p2, y_predict_p2)\n",
    "plt.xlabel(\"Simpangan (rad)\")\n",
    "plt.ylabel(\"T^2\")\n",
    "plt.show()"
   ]
  },
  {
   "cell_type": "code",
   "execution_count": 102,
   "metadata": {
    "scrolled": false
   },
   "outputs": [
    {
     "name": "stdout",
     "output_type": "stream",
     "text": [
      "                            OLS Regression Results                            \n",
      "==============================================================================\n",
      "Dep. Variable:        Periode kuadrat   R-squared:                       0.833\n",
      "Model:                            OLS   Adj. R-squared:                  0.800\n",
      "Method:                 Least Squares   F-statistic:                     24.96\n",
      "Date:                Tue, 13 Apr 2021   Prob (F-statistic):            0.00412\n",
      "Time:                        10:57:07   Log-Likelihood:                 15.491\n",
      "No. Observations:                   7   AIC:                            -26.98\n",
      "Df Residuals:                       5   BIC:                            -27.09\n",
      "Df Model:                           1                                         \n",
      "Covariance Type:            nonrobust                                         \n",
      "===================================================================================\n",
      "                      coef    std err          t      P>|t|      [0.025      0.975]\n",
      "-----------------------------------------------------------------------------------\n",
      "const               3.5914      0.023    155.662      0.000       3.532       3.651\n",
      "Simpangan (rad)     0.1649      0.033      4.996      0.004       0.080       0.250\n",
      "==============================================================================\n",
      "Omnibus:                          nan   Durbin-Watson:                   2.403\n",
      "Prob(Omnibus):                    nan   Jarque-Bera (JB):                0.598\n",
      "Skew:                           0.384   Prob(JB):                        0.742\n",
      "Kurtosis:                       1.792   Cond. No.                         3.89\n",
      "==============================================================================\n",
      "\n",
      "Notes:\n",
      "[1] Standard Errors assume that the covariance matrix of the errors is correctly specified.\n"
     ]
    },
    {
     "name": "stderr",
     "output_type": "stream",
     "text": [
      "C:\\ProgramData\\Anaconda3\\lib\\site-packages\\statsmodels\\stats\\stattools.py:74: ValueWarning: omni_normtest is not valid with less than 8 observations; 7 samples were given.\n",
      "  warn(\"omni_normtest is not valid with less than 8 observations; %i \"\n"
     ]
    }
   ],
   "source": [
    "print(hasil_p2.summary())"
   ]
  },
  {
   "cell_type": "markdown",
   "metadata": {},
   "source": [
    "# Percobaan 3"
   ]
  },
  {
   "cell_type": "code",
   "execution_count": null,
   "metadata": {},
   "outputs": [],
   "source": [
    "df_p3 = pd.read_csv(\"Percobaan 3.txt\", sep = \"\\t\")\n",
    "x_p3 = df_p3[\"Jumlah quadrant brass\"]\n",
    "t_p3 = df_p3[\"t (s)\"]\n",
    "n = 3\n",
    "df_p3[\"Periode kuadrat\"] = (t_p3/n)**2\n",
    "y_p3 = df_p3[\"Periode kuadrat\"]\n",
    "x_const_p3 = sm.add_constant(x_p3)\n",
    "hasil_p3 = sm.OLS(y_p3, x_const_p3).fit()\n",
    "print(\"Persamaan:\\n y =\", hasil_p3.params[0], \"x +\", hasil_p3.params[1])\n",
    "y_predict_p3 = hasil_p3.params[1]*x_p3 + hasil_p3.params[0]\n",
    "plt.plot(x_p3, y_p3,'o', x_p3, y_predict_p3)\n",
    "plt.xlabel(\"Jumlah quadrant brass\")\n",
    "plt.ylabel(\"T^2\")\n",
    "plt.show()"
   ]
  },
  {
   "cell_type": "code",
   "execution_count": 104,
   "metadata": {
    "scrolled": false
   },
   "outputs": [
    {
     "name": "stdout",
     "output_type": "stream",
     "text": [
      "                            OLS Regression Results                            \n",
      "==============================================================================\n",
      "Dep. Variable:        Periode kuadrat   R-squared:                       0.989\n",
      "Model:                            OLS   Adj. R-squared:                  0.987\n",
      "Method:                 Least Squares   F-statistic:                     519.1\n",
      "Date:                Tue, 13 Apr 2021   Prob (F-statistic):           4.68e-07\n",
      "Time:                        10:57:47   Log-Likelihood:                 5.1642\n",
      "No. Observations:                   8   AIC:                            -6.328\n",
      "Df Residuals:                       6   BIC:                            -6.170\n",
      "Df Model:                           1                                         \n",
      "Covariance Type:            nonrobust                                         \n",
      "=========================================================================================\n",
      "                            coef    std err          t      P>|t|      [0.025      0.975]\n",
      "-----------------------------------------------------------------------------------------\n",
      "const                     3.5379      0.114     30.990      0.000       3.259       3.817\n",
      "Jumlah quadrant brass     0.5151      0.023     22.784      0.000       0.460       0.570\n",
      "==============================================================================\n",
      "Omnibus:                        2.040   Durbin-Watson:                   2.542\n",
      "Prob(Omnibus):                  0.361   Jarque-Bera (JB):                0.757\n",
      "Skew:                          -0.032   Prob(JB):                        0.685\n",
      "Kurtosis:                       1.494   Cond. No.                         11.5\n",
      "==============================================================================\n",
      "\n",
      "Notes:\n",
      "[1] Standard Errors assume that the covariance matrix of the errors is correctly specified.\n"
     ]
    },
    {
     "name": "stderr",
     "output_type": "stream",
     "text": [
      "C:\\ProgramData\\Anaconda3\\lib\\site-packages\\scipy\\stats\\stats.py:1603: UserWarning: kurtosistest only valid for n>=20 ... continuing anyway, n=8\n",
      "  warnings.warn(\"kurtosistest only valid for n>=20 ... continuing \"\n"
     ]
    }
   ],
   "source": [
    "print(hasil_p3.summary())"
   ]
  },
  {
   "cell_type": "code",
   "execution_count": null,
   "metadata": {},
   "outputs": [],
   "source": []
  }
 ],
 "metadata": {
  "kernelspec": {
   "display_name": "Python 3",
   "language": "python",
   "name": "python3"
  },
  "language_info": {
   "codemirror_mode": {
    "name": "ipython",
    "version": 3
   },
   "file_extension": ".py",
   "mimetype": "text/x-python",
   "name": "python",
   "nbconvert_exporter": "python",
   "pygments_lexer": "ipython3",
   "version": "3.8.8"
  }
 },
 "nbformat": 4,
 "nbformat_minor": 4
}
