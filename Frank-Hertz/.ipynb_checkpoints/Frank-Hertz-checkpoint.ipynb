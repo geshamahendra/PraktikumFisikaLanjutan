{
 "cells": [
  {
   "cell_type": "code",
   "execution_count": 22,
   "id": "a550144e",
   "metadata": {},
   "outputs": [],
   "source": [
    "import pandas as pd\n",
    "import os\n",
    "import numpy as np\n",
    "import statsmodels.api as sm\n",
    "import matplotlib.pyplot as plt\n",
    "%matplotlib inline\n",
    "\n",
    "d_v1 = pd.read_csv('./Grafik A.txt', sep = '\\t')"
   ]
  },
  {
   "cell_type": "markdown",
   "id": "aae5c96b",
   "metadata": {},
   "source": [
    "# Grafik A"
   ]
  },
  {
   "cell_type": "code",
   "execution_count": 3,
   "id": "4abb7d0b",
   "metadata": {},
   "outputs": [
    {
     "name": "stdout",
     "output_type": "stream",
     "text": [
      "     U (V)  I (nA)\n",
      "0     0.05    0.54\n",
      "1     0.20   -0.08\n",
      "2     0.50   -0.06\n",
      "3     0.75   -0.05\n",
      "4     1.00   -0.05\n",
      "..     ...     ...\n",
      "396  78.65   12.75\n",
      "397  78.65   12.75\n",
      "398  78.65   12.75\n",
      "399  78.65   12.75\n",
      "400  78.65   12.75\n",
      "\n",
      "[401 rows x 2 columns]\n"
     ]
    }
   ],
   "source": [
    "print(d_v1)"
   ]
  },
  {
   "cell_type": "code",
   "execution_count": 4,
   "id": "2bd04873",
   "metadata": {},
   "outputs": [
    {
     "data": {
      "text/html": [
       "<div>\n",
       "<style scoped>\n",
       "    .dataframe tbody tr th:only-of-type {\n",
       "        vertical-align: middle;\n",
       "    }\n",
       "\n",
       "    .dataframe tbody tr th {\n",
       "        vertical-align: top;\n",
       "    }\n",
       "\n",
       "    .dataframe thead th {\n",
       "        text-align: right;\n",
       "    }\n",
       "</style>\n",
       "<table border=\"1\" class=\"dataframe\">\n",
       "  <thead>\n",
       "    <tr style=\"text-align: right;\">\n",
       "      <th></th>\n",
       "      <th>U (V)</th>\n",
       "      <th>I (nA)</th>\n",
       "    </tr>\n",
       "  </thead>\n",
       "  <tbody>\n",
       "    <tr>\n",
       "      <th>0</th>\n",
       "      <td>0.05</td>\n",
       "      <td>0.54</td>\n",
       "    </tr>\n",
       "    <tr>\n",
       "      <th>1</th>\n",
       "      <td>0.20</td>\n",
       "      <td>-0.08</td>\n",
       "    </tr>\n",
       "    <tr>\n",
       "      <th>2</th>\n",
       "      <td>0.50</td>\n",
       "      <td>-0.06</td>\n",
       "    </tr>\n",
       "    <tr>\n",
       "      <th>3</th>\n",
       "      <td>0.75</td>\n",
       "      <td>-0.05</td>\n",
       "    </tr>\n",
       "    <tr>\n",
       "      <th>4</th>\n",
       "      <td>1.00</td>\n",
       "      <td>-0.05</td>\n",
       "    </tr>\n",
       "    <tr>\n",
       "      <th>...</th>\n",
       "      <td>...</td>\n",
       "      <td>...</td>\n",
       "    </tr>\n",
       "    <tr>\n",
       "      <th>396</th>\n",
       "      <td>78.65</td>\n",
       "      <td>12.75</td>\n",
       "    </tr>\n",
       "    <tr>\n",
       "      <th>397</th>\n",
       "      <td>78.65</td>\n",
       "      <td>12.75</td>\n",
       "    </tr>\n",
       "    <tr>\n",
       "      <th>398</th>\n",
       "      <td>78.65</td>\n",
       "      <td>12.75</td>\n",
       "    </tr>\n",
       "    <tr>\n",
       "      <th>399</th>\n",
       "      <td>78.65</td>\n",
       "      <td>12.75</td>\n",
       "    </tr>\n",
       "    <tr>\n",
       "      <th>400</th>\n",
       "      <td>78.65</td>\n",
       "      <td>12.75</td>\n",
       "    </tr>\n",
       "  </tbody>\n",
       "</table>\n",
       "<p>401 rows × 2 columns</p>\n",
       "</div>"
      ],
      "text/plain": [
       "     U (V)  I (nA)\n",
       "0     0.05    0.54\n",
       "1     0.20   -0.08\n",
       "2     0.50   -0.06\n",
       "3     0.75   -0.05\n",
       "4     1.00   -0.05\n",
       "..     ...     ...\n",
       "396  78.65   12.75\n",
       "397  78.65   12.75\n",
       "398  78.65   12.75\n",
       "399  78.65   12.75\n",
       "400  78.65   12.75\n",
       "\n",
       "[401 rows x 2 columns]"
      ]
     },
     "execution_count": 4,
     "metadata": {},
     "output_type": "execute_result"
    }
   ],
   "source": [
    "d_v1[['U (V)', 'I (nA)']]"
   ]
  },
  {
   "cell_type": "code",
   "execution_count": 5,
   "id": "39c9f14d",
   "metadata": {},
   "outputs": [
    {
     "data": {
      "text/plain": [
       "<AxesSubplot:xlabel='U (V)'>"
      ]
     },
     "execution_count": 5,
     "metadata": {},
     "output_type": "execute_result"
    },
    {
     "data": {
      "image/png": "[encoded data removed]",
      "text/plain": [
       "<Figure size 432x288 with 1 Axes>"
      ]
     },
     "metadata": {
      "needs_background": "light"
     },
     "output_type": "display_data"
    }
   ],
   "source": [
    "d_v1.plot('U (V)', 'I (nA)')"
   ]
  },
  {
   "cell_type": "code",
   "execution_count": 6,
   "id": "92d93064",
   "metadata": {},
   "outputs": [
    {
     "name": "stdout",
     "output_type": "stream",
     "text": [
      "Persamaan:\n",
      "y = 0.19457246417373394 x + -1.6110883671805687\n",
      "Kesalahan: \n",
      "delta m =  0.0030155712731229915 \n",
      "delta c =  0.16910056045973731\n"
     ]
    },
    {
     "data": {
      "image/png": "[encoded data removed]",
      "text/plain": [
       "<Figure size 432x288 with 1 Axes>"
      ]
     },
     "metadata": {
      "needs_background": "light"
     },
     "output_type": "display_data"
    }
   ],
   "source": [
    "x_v1 = d_v1[\"U (V)\"]\n",
    "y_v1 = d_v1[\"I (nA)\"]\n",
    "x_const_v1 = sm.add_constant(x_v1)\n",
    "hasil_v1 = sm.OLS(y_v1, x_const_v1).fit()\n",
    "\n",
    "const_v1 = hasil_v1.params[0]\n",
    "grad_v1 = hasil_v1.params[1]\n",
    "print(\"Persamaan:\\ny =\", grad_v1, \"x +\", const_v1)\n",
    "\n",
    "grad_err_v1 = hasil_v1.bse[1]\n",
    "const_err_v1 = hasil_v1.bse[0]\n",
    "print(\"Kesalahan: \\ndelta m = \", grad_err_v1, \"\\ndelta c = \", const_err_v1)\n",
    "\n",
    "y_predict_v1 = grad_v1*x_v1 + const_v1\n",
    "plt.plot(x_v1, y_v1, x_v1, y_predict_v1)\n",
    "plt.xlabel(\"U (V)\")\n",
    "plt.ylabel(\"I (nA)\")\n",
    "plt.show()"
   ]
  },
  {
   "cell_type": "code",
   "execution_count": 7,
   "id": "180a021f",
   "metadata": {},
   "outputs": [
    {
     "name": "stdout",
     "output_type": "stream",
     "text": [
      "                            OLS Regression Results                            \n",
      "==============================================================================\n",
      "Dep. Variable:                 I (nA)   R-squared:                       0.913\n",
      "Model:                            OLS   Adj. R-squared:                  0.912\n",
      "Method:                 Least Squares   F-statistic:                     4163.\n",
      "Date:                Wed, 14 Apr 2021   Prob (F-statistic):          3.24e-213\n",
      "Time:                        16:49:43   Log-Likelihood:                -751.72\n",
      "No. Observations:                 401   AIC:                             1507.\n",
      "Df Residuals:                     399   BIC:                             1515.\n",
      "Df Model:                           1                                         \n",
      "Covariance Type:            nonrobust                                         \n",
      "==============================================================================\n",
      "                 coef    std err          t      P>|t|      [0.025      0.975]\n",
      "------------------------------------------------------------------------------\n",
      "const         -1.6111      0.169     -9.527      0.000      -1.944      -1.279\n",
      "U (V)          0.1946      0.003     64.523      0.000       0.189       0.201\n",
      "==============================================================================\n",
      "Omnibus:                       31.491   Durbin-Watson:                   0.003\n",
      "Prob(Omnibus):                  0.000   Jarque-Bera (JB):               37.543\n",
      "Skew:                           0.749   Prob(JB):                     7.04e-09\n",
      "Kurtosis:                       2.964   Cond. No.                         120.\n",
      "==============================================================================\n",
      "\n",
      "Notes:\n",
      "[1] Standard Errors assume that the covariance matrix of the errors is correctly specified.\n"
     ]
    }
   ],
   "source": [
    "print(hasil_v1.summary())"
   ]
  },
  {
   "cell_type": "markdown",
   "id": "c16f7558",
   "metadata": {},
   "source": [
    "# Grafik B"
   ]
  },
  {
   "cell_type": "code",
   "execution_count": 8,
   "id": "0b9e2c38",
   "metadata": {},
   "outputs": [],
   "source": [
    "d_v2 = pd.read_csv('./Grafik B.txt', sep = '\\t')"
   ]
  },
  {
   "cell_type": "code",
   "execution_count": 9,
   "id": "95d760da",
   "metadata": {},
   "outputs": [
    {
     "name": "stdout",
     "output_type": "stream",
     "text": [
      "     U (V)  I (nA)\n",
      "0     0.40   -0.11\n",
      "1     0.65   -0.09\n",
      "2     0.90   -0.09\n",
      "3     1.15   -0.09\n",
      "4     1.45   -0.09\n",
      "..     ...     ...\n",
      "396  78.60    2.00\n",
      "397  78.60    2.00\n",
      "398  78.60    2.00\n",
      "399  78.60    2.00\n",
      "400  78.60    2.00\n",
      "\n",
      "[401 rows x 2 columns]\n"
     ]
    }
   ],
   "source": [
    "print(d_v2)"
   ]
  },
  {
   "cell_type": "code",
   "execution_count": 10,
   "id": "e078af18",
   "metadata": {},
   "outputs": [
    {
     "data": {
      "text/html": [
       "<div>\n",
       "<style scoped>\n",
       "    .dataframe tbody tr th:only-of-type {\n",
       "        vertical-align: middle;\n",
       "    }\n",
       "\n",
       "    .dataframe tbody tr th {\n",
       "        vertical-align: top;\n",
       "    }\n",
       "\n",
       "    .dataframe thead th {\n",
       "        text-align: right;\n",
       "    }\n",
       "</style>\n",
       "<table border=\"1\" class=\"dataframe\">\n",
       "  <thead>\n",
       "    <tr style=\"text-align: right;\">\n",
       "      <th></th>\n",
       "      <th>U (V)</th>\n",
       "      <th>I (nA)</th>\n",
       "    </tr>\n",
       "  </thead>\n",
       "  <tbody>\n",
       "    <tr>\n",
       "      <th>0</th>\n",
       "      <td>0.40</td>\n",
       "      <td>-0.11</td>\n",
       "    </tr>\n",
       "    <tr>\n",
       "      <th>1</th>\n",
       "      <td>0.65</td>\n",
       "      <td>-0.09</td>\n",
       "    </tr>\n",
       "    <tr>\n",
       "      <th>2</th>\n",
       "      <td>0.90</td>\n",
       "      <td>-0.09</td>\n",
       "    </tr>\n",
       "    <tr>\n",
       "      <th>3</th>\n",
       "      <td>1.15</td>\n",
       "      <td>-0.09</td>\n",
       "    </tr>\n",
       "    <tr>\n",
       "      <th>4</th>\n",
       "      <td>1.45</td>\n",
       "      <td>-0.09</td>\n",
       "    </tr>\n",
       "    <tr>\n",
       "      <th>...</th>\n",
       "      <td>...</td>\n",
       "      <td>...</td>\n",
       "    </tr>\n",
       "    <tr>\n",
       "      <th>396</th>\n",
       "      <td>78.60</td>\n",
       "      <td>2.00</td>\n",
       "    </tr>\n",
       "    <tr>\n",
       "      <th>397</th>\n",
       "      <td>78.60</td>\n",
       "      <td>2.00</td>\n",
       "    </tr>\n",
       "    <tr>\n",
       "      <th>398</th>\n",
       "      <td>78.60</td>\n",
       "      <td>2.00</td>\n",
       "    </tr>\n",
       "    <tr>\n",
       "      <th>399</th>\n",
       "      <td>78.60</td>\n",
       "      <td>2.00</td>\n",
       "    </tr>\n",
       "    <tr>\n",
       "      <th>400</th>\n",
       "      <td>78.60</td>\n",
       "      <td>2.00</td>\n",
       "    </tr>\n",
       "  </tbody>\n",
       "</table>\n",
       "<p>401 rows × 2 columns</p>\n",
       "</div>"
      ],
      "text/plain": [
       "     U (V)  I (nA)\n",
       "0     0.40   -0.11\n",
       "1     0.65   -0.09\n",
       "2     0.90   -0.09\n",
       "3     1.15   -0.09\n",
       "4     1.45   -0.09\n",
       "..     ...     ...\n",
       "396  78.60    2.00\n",
       "397  78.60    2.00\n",
       "398  78.60    2.00\n",
       "399  78.60    2.00\n",
       "400  78.60    2.00\n",
       "\n",
       "[401 rows x 2 columns]"
      ]
     },
     "execution_count": 10,
     "metadata": {},
     "output_type": "execute_result"
    }
   ],
   "source": [
    "d_v2[['U (V)', 'I (nA)']]"
   ]
  },
  {
   "cell_type": "code",
   "execution_count": 11,
   "id": "d781c612",
   "metadata": {},
   "outputs": [
    {
     "data": {
      "text/plain": [
       "<AxesSubplot:xlabel='U (V)'>"
      ]
     },
     "execution_count": 11,
     "metadata": {},
     "output_type": "execute_result"
    },
    {
     "data": {
      "image/png": "[encoded data removed]",
      "text/plain": [
       "<Figure size 432x288 with 1 Axes>"
      ]
     },
     "metadata": {
      "needs_background": "light"
     },
     "output_type": "display_data"
    }
   ],
   "source": [
    "d_v2.plot('U (V)', 'I (nA)')"
   ]
  },
  {
   "cell_type": "code",
   "execution_count": 12,
   "id": "46865004",
   "metadata": {},
   "outputs": [
    {
     "name": "stdout",
     "output_type": "stream",
     "text": [
      "Persamaan:\n",
      "y = 0.02832811734248831 x + -0.25952761184630424\n",
      "Kesalahan: \n",
      "delta m =  0.00036900974686773525 \n",
      "delta c =  0.02079029923322128\n"
     ]
    },
    {
     "data": {
      "image/png": "[encoded data removed]",
      "text/plain": [
       "<Figure size 432x288 with 1 Axes>"
      ]
     },
     "metadata": {
      "needs_background": "light"
     },
     "output_type": "display_data"
    }
   ],
   "source": [
    "x_v2 = d_v2[\"U (V)\"]\n",
    "y_v2 = d_v2[\"I (nA)\"]\n",
    "x_const_v2 = sm.add_constant(x_v2)\n",
    "hasil_v2 = sm.OLS(y_v2, x_const_v2).fit()\n",
    "\n",
    "const_v2 = hasil_v2.params[0]\n",
    "grad_v2 = hasil_v2.params[1]\n",
    "print(\"Persamaan:\\ny =\", grad_v2, \"x +\", const_v2)\n",
    "\n",
    "grad_err_v2 = hasil_v2.bse[1]\n",
    "const_err_v2 = hasil_v2.bse[0]\n",
    "print(\"Kesalahan: \\ndelta m = \", grad_err_v2, \"\\ndelta c = \", const_err_v2)\n",
    "\n",
    "y_predict_v2 = grad_v2*x_v2 + const_v2\n",
    "plt.plot(x_v2, y_v2, x_v2, y_predict_v2)\n",
    "plt.xlabel(\"U (V)\")\n",
    "plt.ylabel(\"I (nA)\")\n",
    "plt.show()"
   ]
  },
  {
   "cell_type": "code",
   "execution_count": 13,
   "id": "c3026b76",
   "metadata": {},
   "outputs": [
    {
     "name": "stdout",
     "output_type": "stream",
     "text": [
      "                            OLS Regression Results                            \n",
      "==============================================================================\n",
      "Dep. Variable:                 I (nA)   R-squared:                       0.937\n",
      "Model:                            OLS   Adj. R-squared:                  0.936\n",
      "Method:                 Least Squares   F-statistic:                     5893.\n",
      "Date:                Wed, 14 Apr 2021   Prob (F-statistic):          4.43e-241\n",
      "Time:                        16:49:45   Log-Likelihood:                 93.024\n",
      "No. Observations:                 401   AIC:                            -182.0\n",
      "Df Residuals:                     399   BIC:                            -174.1\n",
      "Df Model:                           1                                         \n",
      "Covariance Type:            nonrobust                                         \n",
      "==============================================================================\n",
      "                 coef    std err          t      P>|t|      [0.025      0.975]\n",
      "------------------------------------------------------------------------------\n",
      "const         -0.2595      0.021    -12.483      0.000      -0.300      -0.219\n",
      "U (V)          0.0283      0.000     76.768      0.000       0.028       0.029\n",
      "==============================================================================\n",
      "Omnibus:                       89.810   Durbin-Watson:                   0.007\n",
      "Prob(Omnibus):                  0.000   Jarque-Bera (JB):              251.645\n",
      "Skew:                          -1.051   Prob(JB):                     2.27e-55\n",
      "Kurtosis:                       6.262   Cond. No.                         122.\n",
      "==============================================================================\n",
      "\n",
      "Notes:\n",
      "[1] Standard Errors assume that the covariance matrix of the errors is correctly specified.\n"
     ]
    }
   ],
   "source": [
    "print(hasil_v2.summary())"
   ]
  },
  {
   "cell_type": "markdown",
   "id": "2aba7602",
   "metadata": {},
   "source": [
    "# Grafik C"
   ]
  },
  {
   "cell_type": "code",
   "execution_count": 14,
   "id": "8f8900f8",
   "metadata": {},
   "outputs": [],
   "source": [
    "d_v3 = pd.read_csv('./Grafik C.txt', sep = '\\t')"
   ]
  },
  {
   "cell_type": "code",
   "execution_count": 15,
   "id": "02df77b1",
   "metadata": {},
   "outputs": [
    {
     "name": "stdout",
     "output_type": "stream",
     "text": [
      "     U (V)  I (nA)\n",
      "0     0.10   -0.09\n",
      "1     0.35   -0.11\n",
      "2     0.65   -0.09\n",
      "3     0.90   -0.09\n",
      "4     1.15   -0.08\n",
      "..     ...     ...\n",
      "396  78.60   12.74\n",
      "397  78.60   12.74\n",
      "398  78.60   12.74\n",
      "399  78.60   12.74\n",
      "400  78.60   12.74\n",
      "\n",
      "[401 rows x 2 columns]\n"
     ]
    }
   ],
   "source": [
    "print(d_v3)"
   ]
  },
  {
   "cell_type": "code",
   "execution_count": 16,
   "id": "31a0df71",
   "metadata": {},
   "outputs": [
    {
     "data": {
      "text/html": [
       "<div>\n",
       "<style scoped>\n",
       "    .dataframe tbody tr th:only-of-type {\n",
       "        vertical-align: middle;\n",
       "    }\n",
       "\n",
       "    .dataframe tbody tr th {\n",
       "        vertical-align: top;\n",
       "    }\n",
       "\n",
       "    .dataframe thead th {\n",
       "        text-align: right;\n",
       "    }\n",
       "</style>\n",
       "<table border=\"1\" class=\"dataframe\">\n",
       "  <thead>\n",
       "    <tr style=\"text-align: right;\">\n",
       "      <th></th>\n",
       "      <th>U (V)</th>\n",
       "      <th>I (nA)</th>\n",
       "    </tr>\n",
       "  </thead>\n",
       "  <tbody>\n",
       "    <tr>\n",
       "      <th>0</th>\n",
       "      <td>0.10</td>\n",
       "      <td>-0.09</td>\n",
       "    </tr>\n",
       "    <tr>\n",
       "      <th>1</th>\n",
       "      <td>0.35</td>\n",
       "      <td>-0.11</td>\n",
       "    </tr>\n",
       "    <tr>\n",
       "      <th>2</th>\n",
       "      <td>0.65</td>\n",
       "      <td>-0.09</td>\n",
       "    </tr>\n",
       "    <tr>\n",
       "      <th>3</th>\n",
       "      <td>0.90</td>\n",
       "      <td>-0.09</td>\n",
       "    </tr>\n",
       "    <tr>\n",
       "      <th>4</th>\n",
       "      <td>1.15</td>\n",
       "      <td>-0.08</td>\n",
       "    </tr>\n",
       "    <tr>\n",
       "      <th>...</th>\n",
       "      <td>...</td>\n",
       "      <td>...</td>\n",
       "    </tr>\n",
       "    <tr>\n",
       "      <th>396</th>\n",
       "      <td>78.60</td>\n",
       "      <td>12.74</td>\n",
       "    </tr>\n",
       "    <tr>\n",
       "      <th>397</th>\n",
       "      <td>78.60</td>\n",
       "      <td>12.74</td>\n",
       "    </tr>\n",
       "    <tr>\n",
       "      <th>398</th>\n",
       "      <td>78.60</td>\n",
       "      <td>12.74</td>\n",
       "    </tr>\n",
       "    <tr>\n",
       "      <th>399</th>\n",
       "      <td>78.60</td>\n",
       "      <td>12.74</td>\n",
       "    </tr>\n",
       "    <tr>\n",
       "      <th>400</th>\n",
       "      <td>78.60</td>\n",
       "      <td>12.74</td>\n",
       "    </tr>\n",
       "  </tbody>\n",
       "</table>\n",
       "<p>401 rows × 2 columns</p>\n",
       "</div>"
      ],
      "text/plain": [
       "     U (V)  I (nA)\n",
       "0     0.10   -0.09\n",
       "1     0.35   -0.11\n",
       "2     0.65   -0.09\n",
       "3     0.90   -0.09\n",
       "4     1.15   -0.08\n",
       "..     ...     ...\n",
       "396  78.60   12.74\n",
       "397  78.60   12.74\n",
       "398  78.60   12.74\n",
       "399  78.60   12.74\n",
       "400  78.60   12.74\n",
       "\n",
       "[401 rows x 2 columns]"
      ]
     },
     "execution_count": 16,
     "metadata": {},
     "output_type": "execute_result"
    }
   ],
   "source": [
    "d_v3[['U (V)', 'I (nA)']]"
   ]
  },
  {
   "cell_type": "code",
   "execution_count": 17,
   "id": "6e3a1628",
   "metadata": {},
   "outputs": [
    {
     "data": {
      "text/plain": [
       "<AxesSubplot:xlabel='U (V)'>"
      ]
     },
     "execution_count": 17,
     "metadata": {},
     "output_type": "execute_result"
    },
    {
     "data": {
      "image/png": "[encoded data removed]",
      "text/plain": [
       "<Figure size 432x288 with 1 Axes>"
      ]
     },
     "metadata": {
      "needs_background": "light"
     },
     "output_type": "display_data"
    }
   ],
   "source": [
    "d_v3.plot('U (V)', 'I (nA)')"
   ]
  },
  {
   "cell_type": "code",
   "execution_count": 18,
   "id": "47ac2974",
   "metadata": {},
   "outputs": [
    {
     "name": "stdout",
     "output_type": "stream",
     "text": [
      "Persamaan:\n",
      "y = 0.18856485631016734 x + -1.9409503386870037\n",
      "Kesalahan: \n",
      "delta m =  0.0031289895441440918 \n",
      "delta c =  0.1755815116108611\n"
     ]
    },
    {
     "data": {
      "image/png": "[encoded data removed]",
      "text/plain": [
       "<Figure size 432x288 with 1 Axes>"
      ]
     },
     "metadata": {
      "needs_background": "light"
     },
     "output_type": "display_data"
    }
   ],
   "source": [
    "x_v3 = d_v3[\"U (V)\"]\n",
    "y_v3 = d_v3[\"I (nA)\"]\n",
    "x_const_v3 = sm.add_constant(x_v3)\n",
    "hasil_v3 = sm.OLS(y_v3, x_const_v3).fit()\n",
    "\n",
    "const_v3 = hasil_v3.params[0]\n",
    "grad_v3 = hasil_v3.params[1]\n",
    "print(\"Persamaan:\\ny =\", grad_v3, \"x +\", const_v3)\n",
    "\n",
    "grad_err_v3 = hasil_v3.bse[1]\n",
    "const_err_v3 = hasil_v3.bse[0]\n",
    "print(\"Kesalahan: \\ndelta m = \", grad_err_v3, \"\\ndelta c = \", const_err_v3)\n",
    "\n",
    "y_predict_v3 = grad_v3*x_v3 + const_v3\n",
    "plt.plot(x_v3, y_v3, x_v3, y_predict_v3)\n",
    "plt.xlabel(\"U (V)\")\n",
    "plt.ylabel(\"I (nA)\")\n",
    "plt.show()"
   ]
  },
  {
   "cell_type": "code",
   "execution_count": 20,
   "id": "1a7e852d",
   "metadata": {},
   "outputs": [
    {
     "name": "stdout",
     "output_type": "stream",
     "text": [
      "                            OLS Regression Results                            \n",
      "==============================================================================\n",
      "Dep. Variable:                 I (nA)   R-squared:                       0.901\n",
      "Model:                            OLS   Adj. R-squared:                  0.901\n",
      "Method:                 Least Squares   F-statistic:                     3632.\n",
      "Date:                Wed, 14 Apr 2021   Prob (F-statistic):          1.75e-202\n",
      "Time:                        17:47:18   Log-Likelihood:                -765.27\n",
      "No. Observations:                 401   AIC:                             1535.\n",
      "Df Residuals:                     399   BIC:                             1543.\n",
      "Df Model:                           1                                         \n",
      "Covariance Type:            nonrobust                                         \n",
      "==============================================================================\n",
      "                 coef    std err          t      P>|t|      [0.025      0.975]\n",
      "------------------------------------------------------------------------------\n",
      "const         -1.9410      0.176    -11.054      0.000      -2.286      -1.596\n",
      "U (V)          0.1886      0.003     60.264      0.000       0.182       0.195\n",
      "==============================================================================\n",
      "Omnibus:                       95.585   Durbin-Watson:                   0.007\n",
      "Prob(Omnibus):                  0.000   Jarque-Bera (JB):              181.212\n",
      "Skew:                          -1.311   Prob(JB):                     4.47e-40\n",
      "Kurtosis:                       4.993   Cond. No.                         121.\n",
      "==============================================================================\n",
      "\n",
      "Notes:\n",
      "[1] Standard Errors assume that the covariance matrix of the errors is correctly specified.\n"
     ]
    }
   ],
   "source": [
    "print(hasil_v3.summary())"
   ]
  },
  {
   "cell_type": "markdown",
   "id": "9acf494e",
   "metadata": {},
   "source": [
    "# Percobaan 2"
   ]
  },
  {
   "cell_type": "code",
   "execution_count": 24,
   "id": "c6e24500",
   "metadata": {
    "scrolled": true
   },
   "outputs": [],
   "source": [
    "d_v4 = pd.read_csv('./Percobaan 2.txt', sep = '\\t')"
   ]
  },
  {
   "cell_type": "code",
   "execution_count": 25,
   "id": "3442e411",
   "metadata": {},
   "outputs": [
    {
     "name": "stdout",
     "output_type": "stream",
     "text": [
      "   n Cahaya  U (V)\n",
      "0         1   36.5\n",
      "1         2   48.7\n",
      "2         3   72.7\n"
     ]
    }
   ],
   "source": [
    "print(d_v4)"
   ]
  },
  {
   "cell_type": "code",
   "execution_count": 27,
   "id": "8814b294",
   "metadata": {},
   "outputs": [
    {
     "data": {
      "text/html": [
       "<div>\n",
       "<style scoped>\n",
       "    .dataframe tbody tr th:only-of-type {\n",
       "        vertical-align: middle;\n",
       "    }\n",
       "\n",
       "    .dataframe tbody tr th {\n",
       "        vertical-align: top;\n",
       "    }\n",
       "\n",
       "    .dataframe thead th {\n",
       "        text-align: right;\n",
       "    }\n",
       "</style>\n",
       "<table border=\"1\" class=\"dataframe\">\n",
       "  <thead>\n",
       "    <tr style=\"text-align: right;\">\n",
       "      <th></th>\n",
       "      <th>n Cahaya</th>\n",
       "      <th>U (V)</th>\n",
       "    </tr>\n",
       "  </thead>\n",
       "  <tbody>\n",
       "    <tr>\n",
       "      <th>0</th>\n",
       "      <td>1</td>\n",
       "      <td>36.5</td>\n",
       "    </tr>\n",
       "    <tr>\n",
       "      <th>1</th>\n",
       "      <td>2</td>\n",
       "      <td>48.7</td>\n",
       "    </tr>\n",
       "    <tr>\n",
       "      <th>2</th>\n",
       "      <td>3</td>\n",
       "      <td>72.7</td>\n",
       "    </tr>\n",
       "  </tbody>\n",
       "</table>\n",
       "</div>"
      ],
      "text/plain": [
       "   n Cahaya  U (V)\n",
       "0         1   36.5\n",
       "1         2   48.7\n",
       "2         3   72.7"
      ]
     },
     "execution_count": 27,
     "metadata": {},
     "output_type": "execute_result"
    }
   ],
   "source": [
    "d_v4[['n Cahaya', 'U (V)']]"
   ]
  },
  {
   "cell_type": "code",
   "execution_count": 34,
   "id": "b52cf19c",
   "metadata": {},
   "outputs": [
    {
     "data": {
      "image/png": "[encoded data removed]",
      "text/plain": [
       "<Figure size 432x288 with 1 Axes>"
      ]
     },
     "metadata": {
      "needs_background": "light"
     },
     "output_type": "display_data"
    }
   ],
   "source": [
    "plt.plot(d_v4['n Cahaya'], d_v4['U (V)'], 'o')\n",
    "plt.xlabel(\"n Cahaya\")\n",
    "plt.ylabel(\"U (V)\")\n",
    "plt.show()"
   ]
  },
  {
   "cell_type": "code",
   "execution_count": 37,
   "id": "c7d91e00",
   "metadata": {},
   "outputs": [
    {
     "name": "stdout",
     "output_type": "stream",
     "text": [
      "Persamaan:\n",
      "y = 18.099999999999998 x + 16.43333333333335\n",
      "Kesalahan: \n",
      "delta m =  3.4063665882187917 \n",
      "delta c =  7.358592860655418\n"
     ]
    },
    {
     "data": {
      "image/png": "[encoded data removed]",
      "text/plain": [
       "<Figure size 432x288 with 1 Axes>"
      ]
     },
     "metadata": {
      "needs_background": "light"
     },
     "output_type": "display_data"
    }
   ],
   "source": [
    "x_v4 = d_v4[\"n Cahaya\"]\n",
    "y_v4 = d_v4[\"U (V)\"]\n",
    "x_const_v4 = sm.add_constant(x_v4)\n",
    "hasil_v4 = sm.OLS(y_v4, x_const_v4).fit()\n",
    "\n",
    "const_v4 = hasil_v4.params[0]\n",
    "grad_v4 = hasil_v4.params[1]\n",
    "print(\"Persamaan:\\ny =\", grad_v4, \"x +\", const_v4)\n",
    "\n",
    "grad_err_v4 = hasil_v4.bse[1]\n",
    "const_err_v4 = hasil_v4.bse[0]\n",
    "print(\"Kesalahan: \\ndelta m = \", grad_err_v4, \"\\ndelta c = \", const_err_v4)\n",
    "\n",
    "y_predict_v4 = grad_v4*x_v4 + const_v4\n",
    "plt.plot(x_v4, y_v4,'o', x_v4, y_predict_v4)\n",
    "plt.xlabel(\"U (V)\")\n",
    "plt.ylabel(\"I (nA)\")\n",
    "plt.show()"
   ]
  },
  {
   "cell_type": "code",
   "execution_count": 38,
   "id": "5db6c502",
   "metadata": {},
   "outputs": [
    {
     "name": "stdout",
     "output_type": "stream",
     "text": [
      "                            OLS Regression Results                            \n",
      "==============================================================================\n",
      "Dep. Variable:                  U (V)   R-squared:                       0.966\n",
      "Model:                            OLS   Adj. R-squared:                  0.932\n",
      "Method:                 Least Squares   F-statistic:                     28.23\n",
      "Date:                Wed, 14 Apr 2021   Prob (F-statistic):              0.118\n",
      "Time:                        18:51:56   Log-Likelihood:                -7.3256\n",
      "No. Observations:                   3   AIC:                             18.65\n",
      "Df Residuals:                       1   BIC:                             16.85\n",
      "Df Model:                           1                                         \n",
      "Covariance Type:            nonrobust                                         \n",
      "==============================================================================\n",
      "                 coef    std err          t      P>|t|      [0.025      0.975]\n",
      "------------------------------------------------------------------------------\n",
      "const         16.4333      7.359      2.233      0.268     -77.066     109.933\n",
      "n Cahaya      18.1000      3.406      5.314      0.118     -25.182      61.382\n",
      "==============================================================================\n",
      "Omnibus:                          nan   Durbin-Watson:                   3.000\n",
      "Prob(Omnibus):                    nan   Jarque-Bera (JB):                0.531\n",
      "Skew:                          -0.707   Prob(JB):                        0.767\n",
      "Kurtosis:                       1.500   Cond. No.                         6.79\n",
      "==============================================================================\n",
      "\n",
      "Notes:\n",
      "[1] Standard Errors assume that the covariance matrix of the errors is correctly specified.\n"
     ]
    },
    {
     "name": "stderr",
     "output_type": "stream",
     "text": [
      "C:\\Users\\gesha\\anaconda3\\lib\\site-packages\\statsmodels\\stats\\stattools.py:74: ValueWarning: omni_normtest is not valid with less than 8 observations; 3 samples were given.\n",
      "  warn(\"omni_normtest is not valid with less than 8 observations; %i \"\n"
     ]
    }
   ],
   "source": [
    "print(hasil_v4.summary())"
   ]
  },
  {
   "cell_type": "code",
   "execution_count": null,
   "id": "a774212d",
   "metadata": {},
   "outputs": [],
   "source": []
  }
 ],
 "metadata": {
  "kernelspec": {
   "display_name": "Python 3",
   "language": "python",
   "name": "python3"
  },
  "language_info": {
   "codemirror_mode": {
    "name": "ipython",
    "version": 3
   },
   "file_extension": ".py",
   "mimetype": "text/x-python",
   "name": "python",
   "nbconvert_exporter": "python",
   "pygments_lexer": "ipython3",
   "version": "3.8.8"
  }
 },
 "nbformat": 4,
 "nbformat_minor": 5
}
